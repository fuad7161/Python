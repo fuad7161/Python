{
 "cells": [
  {
   "cell_type": "code",
   "execution_count": 1,
   "metadata": {},
   "outputs": [],
   "source": [
    "import sentecce_making as sm"
   ]
  },
  {
   "cell_type": "code",
   "execution_count": 2,
   "metadata": {},
   "outputs": [],
   "source": [
    "import pandas as pd\n",
    "# dataset = pd.read_csv('testData.csv')\n",
    "dataset = pd.read_csv('trainIPAdb_u.csv')\n",
    "X = dataset.iloc[:10,0]\n",
    "y = dataset.iloc[:10,-1]\n",
    "ans = []\n",
    "for i in X:\n",
    "    ans.append(sm.bangla_to_IPA(i))"
   ]
  },
  {
   "cell_type": "code",
   "execution_count": 3,
   "metadata": {},
   "outputs": [],
   "source": [
    "# df = pd.DataFrame(ans,index=dataset.iloc[:,0],columns=['ipa'])\n",
    "# df.to_csv('sample submission.csv')"
   ]
  },
  {
   "cell_type": "code",
   "execution_count": 4,
   "metadata": {},
   "outputs": [
    {
     "name": "stdout",
     "output_type": "stream",
     "text": [
      "এরপরও তারা বকেয়া পরিশোধ করেনি।\n",
      "erɔporo tɐrɐ bkeʲɐ prɪʃodʱ krenɪ।\n",
      "eɾpɔɾo t̪ɐɾɐ bɔkeʲɐ poɾɪʃod̪ʱ kɔɾenɪ।\n",
      "আগে সুইস ব্যাংকে জমা টাকার কোনো প্রতিবেদন প্রকাশ করা হতো না।\n",
      "ɐɡe ʃuiʃ bbɐŋke zmɐ ʈɐkɐr kono prɔtɪbedɔn prɔkɐʃ krɐ ɦto nɐ।\n",
      "ɐge suɪ̯s bɛŋke ɟɔmɐ tɐkɐɾ kono pɾot̪ɪbed̪ɔn pɾokɐʃ kɔɾɐ hot̪o nɐ।\n",
      "আদালত প্রতিষ্ঠানটি সিলগালা করে দেয়।\n",
      "ɐdɐlɔt prɔtɪʃʈʰɐnʈɪ ʃɪlɡɐlɐ kre dee̯।\n",
      "ɐd̪ɐlɔt̪ pɾot̪ɪʃtʱɐntɪ sɪlgɐlɐ koɾe d̪ee̯।\n",
      "রায়ে তাদের দোষী সাব্যস্ত করা হলেও সাজা আগামী সোমবার ঘোষণা করা হবে বলে এক প্রতিবেদনে জানিয়েছে এনডিটিভি।\n",
      "rɐʲe tɐder doʃɪ ʃɐbbɔʃt krɐ ɦleo ʃɐzɐ ɐɡɐmɪ ʃombɐr ɡʱoʃɳɐ krɐ ɦbe ble ek prɔtɪbedne zɐnɪʲetʃʰe enɖɪʈɪvɪ।\n",
      "ɾɐe t̪ɐd̪eɾ d̪oʃɪ ʃɐbbost̪o kɔɾɐ holeo̯ ʃɐɟɐ ɐgɐmɪ ʃombɐɾ gʱoʃonɐ kɔɾɐ hɔbe bole ɛk pɾot̪ɪbed̪ɔne ɟɐnɪʲecʰe endɪtɪbʱɪ।\n",
      "গ্রেফতারের পর থেকে তাদের বাঁচাতে এলাকার প্রভাবশালীরা থানায় তদবির শুরু করে।\n",
      "ɡreɸtɐrer pɔr tʰeke tɐder bɐcɐte elɐkɐr prɔvɐbʃɐlɪrɐ tʰɐnɐe̯ tɔdbɪr ʃuru kre।\n",
      "gɾepʰt̪ɐɾeɾ pɔɾ t̪ʰeke t̪ɐd̪eɾ bɐ̃cɐt̪e elɐkɐɾ pɾobʱɐbʃɐlɪɾɐ t̪ʰɐnɐe̯ t̪od̪bɪɾ ʃuɾu koɾe।\n",
      "দাম্পত্য জীবনে তাদের দুটি কন্যাসন্তান হয়।\n",
      "dɐmpɔtt zɪbne tɐder duʈɪ knnɐʃntɐn ɦe̯।\n",
      "d̪ɐmpot̪t̪o ɟɪbone t̪ɐd̪eɾ d̪utɪ konnɐʃɔnt̪ɐn hɔe̯।\n",
      "তিনি এ ধরনের উদ্যোগ গ্রহণের জন্য আয়োজকদের ধন্যবাদ জানান এবং মেলার সাফল্য কামনা করেন।\n",
      "tɪnɪ e dʱɔrner wddoɡ ɡrɔɦɳer znn ɐʲozɔkder dʱnnɔbɐd zɐnɐn ebŋ melɐr ʃɐɸll kɐmnɐ kren।\n",
      "t̪ɪnɪ e d̪ʱɔɾoneɾ ud̪d̪og gɾohoneɾ ɟonno ɐʲoɟkd̪eɾ d̪ʱonnobɐd̪ ɟɐnɐn eboŋ mɛlɐɾ ʃɐpʰollo kɐmonɐ kɔɾen।\n",
      "এলাকাবাসী জানান, যমুনা নদীতে ড্রেজার মেশিন দিয়ে তোলা বালু বহনকারী নৌকার মাঝি ছিলেন সন্টু।\n",
      "elɐkɐbɐʃɪ zɐnɐn, zmunɐ ndɪte ɖrezɐr meʃɪn dɪʲe tolɐ bɐlu bɔɦonkɐrɪ nou̯kɐr mɐdʒʱɪ tʃʰɪlen ʃnʈu।\n",
      "elɐkɐbɐʃɪ ɟɐnɐn, ɟomunɐ nod̪ɪt̪e dɾeɟɐɾ meʃɪn d̪ɪʲe t̪olɐ bɐlu bɔhonkɐɾɪ nou̯kɐɾ mɐɟʱɪ cʰɪlen ʃɔntu। \n",
      "চেক পোস্টে পৌঁছতেই ইস্রাফিলকে আটক করে তার কাগজপত্র চাওয়া হয়।\n",
      "cek poʃʈe peৗtʃʰtei iʃrɐɸɪlke ɐʈɔk kre tɐr kɐɡɔzoptr cɐoʲɐ ɦe̯।\n",
      "cek poste pẽcʰt̪e͡ɪ̯ ɪsɾɐpʰɪlke ɐtok koɾe t̪ɐɾ kɐgoɟpot̪ɾo cɐo̯ʷɐ hɔe̯।\n",
      "তার চিৎকারে বাড়ির অন্যরা ছুটে এসে একটি জানালা ভাঙা ও গ্রিল খোলা অবস্থায় পড়ে থাকতে দেখেন।\n",
      "tɐr cɪtkɐre bɐড়ɪr ɔnnɔrɐ tʃʰuʈe eʃe ekʈɪ zɐnɐlɐ vɐŋɐ o ɡrɪl kʰolɐ ɔbʃtʰɐe̯ pড়e tʰɐkte dekʰen।\n",
      "t̪ɐɾ cɪt̪kɐɾe bɐɽɪɾ onnoɾɐ cʰute eʃe ektɪ ɟɐnɐlɐ bʱɐŋɐ o gɾɪl kʰolɐ ɔbost̪ʰɐe̯ pɔɽe t̪ʰɐkt̪e d̪ɛkʰen।\n"
     ]
    }
   ],
   "source": [
    "for i in range(len(X)):\n",
    "    print(X[i])\n",
    "    print(ans[i])\n",
    "    print(y[i])"
   ]
  },
  {
   "cell_type": "code",
   "execution_count": null,
   "metadata": {},
   "outputs": [],
   "source": []
  }
 ],
 "metadata": {
  "kernelspec": {
   "display_name": "Python 3",
   "language": "python",
   "name": "python3"
  },
  "language_info": {
   "codemirror_mode": {
    "name": "ipython",
    "version": 3
   },
   "file_extension": ".py",
   "mimetype": "text/x-python",
   "name": "python",
   "nbconvert_exporter": "python",
   "pygments_lexer": "ipython3",
   "version": "3.11.6"
  }
 },
 "nbformat": 4,
 "nbformat_minor": 2
}
